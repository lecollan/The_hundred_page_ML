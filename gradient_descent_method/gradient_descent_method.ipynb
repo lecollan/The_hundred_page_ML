{
 "cells": [
  {
   "cell_type": "code",
   "execution_count": 1,
   "id": "eb2a9f2d",
   "metadata": {},
   "outputs": [],
   "source": [
    "import matplotlib.pyplot as plt\n",
    "import numpy as np\n",
    "from sklearn import datasets, linear_model\n",
    "from sklearn.metrics import mean_squared_error, r2_score"
   ]
  },
  {
   "cell_type": "markdown",
   "id": "ec0c4b9e",
   "metadata": {},
   "source": [
    "Gradiente descent method printing different epochs and looses"
   ]
  },
  {
   "cell_type": "code",
   "execution_count": 4,
   "id": "b5b66f68",
   "metadata": {},
   "outputs": [],
   "source": [
    "def update_w_and_b(spendings, sales, w, b, alpha):\n",
    "    \n",
    "    dl_dw = 0.0\n",
    "    dl_db = 0.0\n",
    "    N = len(spendings)\n",
    "    for i in range(N):\n",
    "        dl_dw += -2*spendings[i]*(sales[i] - (w*spendings[i] + b))\n",
    "        dl_db += -2*(sales[i] - (w*spendings[i] + b))\n",
    "    # update w and b\n",
    "    w = w - (1/float(N))*dl_dw*alpha    \n",
    "    b = b - (1/float(N))*dl_db*alpha\n",
    "    \n",
    "    return w, b"
   ]
  },
  {
   "cell_type": "code",
   "execution_count": 6,
   "id": "f3e36e70",
   "metadata": {},
   "outputs": [],
   "source": [
    "def train(spendings, sales, w, b, alpha, epochs):\n",
    "    for e in range(epochs):\n",
    "        w, b = update_w_and_b(spendings, sales, w, b, alpha)\n",
    "        # log the progress\n",
    "        if e % 400 == 0:\n",
    "            print(\"epoch:\", e, \"loss: \", avg_loss(spendings, sales, w, b))\n",
    "    return w, b"
   ]
  },
  {
   "cell_type": "code",
   "execution_count": 7,
   "id": "664f0306",
   "metadata": {},
   "outputs": [],
   "source": [
    "def avg_loss(spendings, sales, w, b):\n",
    "    N = len(spendings)\n",
    "    total_error = 0.0\n",
    "    for i in range(N):\n",
    "        total_error += (sales[i] - (w*spendings[i] + b))**2\n",
    "    return total_error / float(N)"
   ]
  },
  {
   "cell_type": "code",
   "execution_count": 8,
   "id": "cc17227b",
   "metadata": {},
   "outputs": [],
   "source": [
    "def predict(x, w, b):\n",
    "    return w*x + b"
   ]
  },
  {
   "cell_type": "code",
   "execution_count": 9,
   "id": "e85814d0",
   "metadata": {},
   "outputs": [],
   "source": [
    "diabetes_X, diabetes_y = datasets.load_diabetes(return_X_y=True)\n",
    "\n",
    "# Use only one feature\n",
    "diabetes_X = diabetes_X[:, np.newaxis, 2]"
   ]
  },
  {
   "cell_type": "code",
   "execution_count": 11,
   "id": "824f2b39",
   "metadata": {},
   "outputs": [
    {
     "name": "stdout",
     "output_type": "stream",
     "text": [
      "epoch: 0 loss:  [28981.9776345]\n",
      "epoch: 400 loss:  [10569.18767386]\n",
      "epoch: 800 loss:  [6851.80353485]\n",
      "epoch: 1200 loss:  [6096.64217042]\n",
      "epoch: 1600 loss:  [5938.60694654]\n",
      "epoch: 2000 loss:  [5900.95742722]\n",
      "epoch: 2400 loss:  [5887.59538828]\n",
      "epoch: 2800 loss:  [5879.14991683]\n",
      "epoch: 3200 loss:  [5871.71627845]\n",
      "epoch: 3600 loss:  [5864.50730778]\n",
      "epoch: 4000 loss:  [5857.36425846]\n",
      "epoch: 4400 loss:  [5850.25505691]\n",
      "epoch: 4800 loss:  [5843.17316367]\n",
      "epoch: 5200 loss:  [5836.11718652]\n",
      "epoch: 5600 loss:  [5829.08677107]\n",
      "epoch: 6000 loss:  [5822.08177242]\n",
      "epoch: 6400 loss:  [5815.10208812]\n",
      "epoch: 6800 loss:  [5808.14762456]\n",
      "epoch: 7200 loss:  [5801.21829019]\n",
      "epoch: 7600 loss:  [5794.31399412]\n",
      "epoch: 8000 loss:  [5787.43464585]\n",
      "epoch: 8400 loss:  [5780.58015524]\n",
      "epoch: 8800 loss:  [5773.75043246]\n",
      "epoch: 9200 loss:  [5766.94538802]\n",
      "epoch: 9600 loss:  [5760.16493276]\n",
      "epoch: 10000 loss:  [5753.40897781]\n",
      "epoch: 10400 loss:  [5746.67743465]\n",
      "epoch: 10800 loss:  [5739.97021508]\n",
      "epoch: 11200 loss:  [5733.28723119]\n",
      "epoch: 11600 loss:  [5726.62839542]\n",
      "epoch: 12000 loss:  [5719.99362052]\n",
      "epoch: 12400 loss:  [5713.38281953]\n",
      "epoch: 12800 loss:  [5706.79590584]\n",
      "epoch: 13200 loss:  [5700.23279313]\n",
      "epoch: 13600 loss:  [5693.6933954]\n",
      "epoch: 14000 loss:  [5687.17762696]\n",
      "epoch: 14400 loss:  [5680.68540242]\n",
      "epoch: 14800 loss:  [5674.21663671]\n",
      "[1585.10641467]\n"
     ]
    }
   ],
   "source": [
    "w, b = train(diabetes_X, diabetes_y, 0.0, 0.0, 0.001, 15000)\n",
    "x_new = 23.0\n",
    "y_new = predict(x_new, w, b)\n",
    "print(y_new)"
   ]
  }
 ],
 "metadata": {
  "kernelspec": {
   "display_name": "lecollan_ds",
   "language": "python",
   "name": "lecollan_ds"
  },
  "language_info": {
   "codemirror_mode": {
    "name": "ipython",
    "version": 3
   },
   "file_extension": ".py",
   "mimetype": "text/x-python",
   "name": "python",
   "nbconvert_exporter": "python",
   "pygments_lexer": "ipython3",
   "version": "3.8.12"
  }
 },
 "nbformat": 4,
 "nbformat_minor": 5
}
